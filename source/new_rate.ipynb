{
 "cells": [
  {
   "cell_type": "code",
   "execution_count": 1,
   "metadata": {},
   "outputs": [],
   "source": [
    "try:\n",
    "    import sys, os\n",
    "    import time\n",
    "    import datetime as dt\n",
    "    import pandas as pd\n",
    "    import numpy as np\n",
    "    import boto3\n",
    "    import s3fs\n",
    "    from loadmodel import LoadModel\n",
    "    import cvxpy as cvx\n",
    "    import pickle\n",
    "    import sklearn\n",
    "    from sklearn.preprocessing import normalize\n",
    "    from sklearn import metrics\n",
    "    from sklearn.model_selection import train_test_split\n",
    "    from sklearn.linear_model import LinearRegression\n",
    "    from sklearn.model_selection import GridSearchCV\n",
    "    from sklearn.linear_model import Ridge\n",
    "except Exception as err:\n",
    "    print(\"EXCEPTION\",err,file=sys.stderr)\n",
    "    import pip\n",
    "    pip.main([\"install\",\"pip\",\"--upgrade\",\"-r\",\"../requirements.txt\"])\n",
    "    print(\"ERROR: pip has changed your python environment, you need to run this cell again\")"
   ]
  },
  {
   "cell_type": "code",
   "execution_count": 2,
   "metadata": {},
   "outputs": [],
   "source": [
    "s3 = boto3.resource('s3')"
   ]
  },
  {
   "cell_type": "markdown",
   "metadata": {},
   "source": [
    "# 1. Prepare data\n",
    "\n",
    "~~Based on data_pipeline.py~~\n",
    "Should ge generated using GMMs"
   ]
  },
  {
   "cell_type": "code",
   "execution_count": 3,
   "metadata": {},
   "outputs": [],
   "source": [
    "gmm_bucket = 'script.control.tool'\n",
    "s3client = boto3.client('s3')\n",
    "gmm_folder_path = 'Sessions_Model_Objects/'\n",
    "gmm_sub_path = 'sessions2019_work_slow_weekday_allbatt_se_5_gmm.p'\n",
    "start_time_scaler = (1/(60*15))"
   ]
  },
  {
   "cell_type": "code",
   "execution_count": 4,
   "metadata": {},
   "outputs": [],
   "source": [
    "def end_times_and_load(start_times, energies, rate, time_steps_per_hour=4, num_time_steps=96):\n",
    "\n",
    "    num = np.shape(start_times)[0]\n",
    "#     load = np.zeros((num_time_steps,))\n",
    "    uncontrolled_load = np.zeros((num, num_time_steps))\n",
    "    end_times = np.zeros(np.shape(start_times)).astype(int)\n",
    "\n",
    "    lengths = (time_steps_per_hour * energies / rate).astype(int)\n",
    "    extra_charges = energies - lengths * rate / time_steps_per_hour\n",
    "    inds1 = np.where((start_times + lengths) > num_time_steps)[0]\n",
    "    inds2 = np.delete(np.arange(0, np.shape(end_times)[0]), inds1)\n",
    "\n",
    "    end_times[inds1] = (np.minimum(start_times[inds1].astype(int)+lengths[inds1]-num_time_steps, num_time_steps)).astype(int)\n",
    "    end_times[inds2] = (start_times[inds2] + lengths[inds2]).astype(int)\n",
    "    inds3 = np.where(end_times >= num_time_steps)[0]\n",
    "    inds4 = np.delete(np.arange(0, np.shape(end_times)[0]), inds3)\n",
    "\n",
    "    for i in range(len(inds1)):\n",
    "        idx = int(inds1[i])\n",
    "        uncontrolled_load[idx, np.arange(int(start_times[idx]), num_time_steps)] += rate * np.ones((num_time_steps - int(start_times[idx]),))\n",
    "        uncontrolled_load[idx, np.arange(0, end_times[idx])] += rate * np.ones((end_times[idx],))\n",
    "    for i in range(len(inds2)):\n",
    "        idx = int(inds2[i])\n",
    "        uncontrolled_load[idx, np.arange(int(start_times[idx]), end_times[idx])] += rate * np.ones((lengths[idx],))\n",
    "    uncontrolled_load[inds3, 0] += np.sum(extra_charges[inds3] * time_steps_per_hour)\n",
    "    uncontrolled_load[inds4, end_times[inds4]] += extra_charges[inds4] * time_steps_per_hour\n",
    "\n",
    "    load = np.sum(uncontrolled_load, axis=0)\n",
    "    return end_times, load, uncontrolled_load\n"
   ]
  },
  {
   "cell_type": "code",
   "execution_count": 5,
   "metadata": {},
   "outputs": [],
   "source": [
    "def load_data(num_vehicles):\n",
    "    key = gmm_folder_path + gmm_sub_path\n",
    "    response = s3client.get_object(Bucket=gmm_bucket, Key=key)\n",
    "    joint_gmm = pickle.loads(response['Body'].read())\n",
    "\n",
    "    sample_output = joint_gmm.sample(num_vehicles)[0]\n",
    "    sample_output = sample_output[np.random.choice(np.shape(sample_output)[0], np.shape(sample_output)[0], replace=False), :]\n",
    "    start_times = (start_time_scaler * np.mod(sample_output[:, 0], 24 * 3600)).astype(int)\n",
    "    energies = np.abs(sample_output[:, 1])\n",
    "    energies = np.clip(energies, 0, 75)\n",
    "    \n",
    "    end_times, load, uncontrolled_load = end_times_and_load(start_times, energies, 6.6)\n",
    "    end_times = np.ceil(np.mod(end_times, 96))#start_times + start_time_scaler*sample_output[:, 2], 96))\n",
    "    \n",
    "    return uncontrolled_load, start_times, end_times"
   ]
  },
  {
   "cell_type": "markdown",
   "metadata": {},
   "source": [
    "### define rate schedule"
   ]
  },
  {
   "cell_type": "code",
   "execution_count": 6,
   "metadata": {},
   "outputs": [],
   "source": [
    "### pge e19 example:\n",
    "\n",
    "# demand_charges = [(21.23, np.arange(int(12 * 4), int(18 * 4))), (19.10, np.arange(0, int(24 * 4))), (5.85, np.concatenate((np.arange(int(8.5 * 4), int(12 * 4)), np.arange(int(18 * 4), int(21.5 * 4)))))]\n",
    "# energy_charges = [(0.16997, np.arange(int(12 * 4), int(18 * 4))), (0.12236, np.concatenate((np.arange(int(8.5 * 4), int(12 * 4)), np.arange(int(18 * 4), int(21.5 * 4))))), (0.09082, np.concatenate((np.arange(0, int(8.5 * 4)), np.arange(int(21.5 * 4), int(24 * 4)))))]\n",
    "\n",
    "### custom example:\n",
    "\n",
    "demand_charges = [(20, np.concatenate((np.arange(int(16 * 4), int(24 * 4)), np.arange(int(0 * 4), int(6 * 4))))),  (2, np.arange(0, int(24 * 4)))]\n",
    "energy_charges = [(0, np.arange(int(11 * 4), int(15 * 4))), (0.05, np.concatenate((np.arange(int(9 * 4), int(11 * 4)), np.arange(int(15 * 4), int(17 * 4))))), (0.1, np.arange(int(7 * 4), int(9 * 4))), (0.15, np.concatenate((np.arange(0, int(7 * 4)), np.arange(int(17 * 4), int(24 * 4)))))]\n",
    "\n"
   ]
  },
  {
   "cell_type": "code",
   "execution_count": 7,
   "metadata": {},
   "outputs": [
    {
     "data": {
      "image/png": "[encoded data removed]",
      "text/plain": [
       "<Figure size 800x300 with 2 Axes>"
      ]
     },
     "metadata": {},
     "output_type": "display_data"
    }
   ],
   "source": [
    "import matplotlib.pyplot as plt\n",
    "plt.figure(figsize=(8,3))\n",
    "plt.subplot(121)\n",
    "for ct, item in enumerate(demand_charges):\n",
    "    yval = np.zeros((96, )); yval[item[1]] = item[0]\n",
    "    plt.plot(0.25*np.arange(0, 96), yval)\n",
    "plt.title('Demand Charges')\n",
    "plt.subplot(122)\n",
    "all_ys = np.zeros((96, len(energy_charges)))\n",
    "for ct, item in enumerate(energy_charges):\n",
    "    yval = np.zeros((96, )); yval[item[1]] = item[0]\n",
    "    all_ys[:, ct] = yval\n",
    "plt.plot(0.25*np.arange(0, 96), np.max(all_ys, axis=1))#yval)\n",
    "plt.title('Energy Prices')\n",
    "plt.tight_layout()\n",
    "plt.show()"
   ]
  },
  {
   "cell_type": "markdown",
   "metadata": {},
   "source": [
    "### implement control"
   ]
  },
  {
   "cell_type": "code",
   "execution_count": 8,
   "metadata": {},
   "outputs": [],
   "source": [
    "def new_controlled_load(self, demand_charges, energy_charges, verbose=False):\n",
    "    \"\"\"Implements the charging control, including TOU and demand charges.\"\"\"\n",
    "    \n",
    "    schedule = cvx.Variable((96, self.num_sessions))\n",
    "    \n",
    "    obj = 0\n",
    "    for ct, item in enumerate(demand_charges): # demand charges\n",
    "        obj += item[0] * cvx.max(cvx.sum(schedule[item[1], :], axis=1)) \n",
    "    for ct, item in enumerate(energy_charges): # demand charges\n",
    "        yval = np.zeros((96, )); yval[item[1]] = item[0]\n",
    "        obj += cvx.matmul(cvx.sum(schedule, axis=1), yval.reshape((-1, 1)))\n",
    "    \n",
    "    constraints = [schedule >= 0]\n",
    "    for i in range(self.num_sessions):\n",
    "        constraints += [schedule[:, i] <= np.maximum(np.max(self.power[:, i]), self.charge_rate)]\n",
    "        if self.departure_inds[i] >= self.arrival_inds[i]:\n",
    "            if self.arrival_inds[i] > 0:\n",
    "                constraints += [schedule[np.arange(0, int(self.arrival_inds[i])), i] <= 0]\n",
    "            if self.departure_inds[i] < 96:\n",
    "                constraints += [schedule[np.arange(int(self.departure_inds[i]), 96), i] <= 0]\n",
    "        else:\n",
    "            constraints += [schedule[np.arange(int(self.departure_inds[i]), int(self.arrival_inds[i])), i] <= 0]\n",
    "\n",
    "    constraints += [0.25 * cvx.sum(schedule, axis=0) == self.energies]\n",
    "\n",
    "    prob = cvx.Problem(cvx.Minimize(obj), constraints)\n",
    "    result = prob.solve(solver=\"CLARABEL\")\n",
    "    if verbose:\n",
    "        print('The objective result: ', result)\n",
    "    if schedule.value is None:\n",
    "        print('Optimization failed')\n",
    "    else:\n",
    "        return schedule.value, np.sum(schedule.value, axis=1)\n"
   ]
  },
  {
   "cell_type": "code",
   "execution_count": 9,
   "metadata": {
    "scrolled": true
   },
   "outputs": [
    {
     "name": "stdout",
     "output_type": "stream",
     "text": [
      "\r",
      " 0% done \r",
      " 1% done (eta 0:00:20)"
     ]
    },
    {
     "name": "stderr",
     "output_type": "stream",
     "text": [
      "/usr/local/lib/python3.11/site-packages/sklearn/base.py:348: InconsistentVersionWarning: Trying to unpickle estimator GaussianMixture from version 0.22.2.post1 when using version 1.3.2. This might lead to breaking code or invalid results. Use at your own risk. For more info please refer to:\n",
      "https://scikit-learn.org/stable/model_persistence.html#security-maintainability-limitations\n",
      "  warnings.warn(\n"
     ]
    },
    {
     "name": "stdout",
     "output_type": "stream",
     "text": [
      "Done                      \n"
     ]
    }
   ],
   "source": [
    "num_runs = 100\n",
    "num_cars = 5 # 250\n",
    "t0 = time.time()\n",
    "input_data = np.zeros((num_runs, 96))\n",
    "output_data_control = np.zeros((num_runs, 96))\n",
    "for i in range(num_runs):\n",
    "    if np.mod(i, int(num_runs/100)) == 0:\n",
    "        print('\\r',f'{i/num_runs*100:.0f}% done',end=' ')\n",
    "        if i > 0:\n",
    "            print(f'(eta',str(dt.timedelta(seconds=(time.time()-t0)/i*(num_runs-i)))[:-7],end=')')\n",
    "    uncontrolled_load, start_times, end_times = load_data(num_cars)\n",
    "    load = LoadModel(num_sessions=num_cars) \n",
    "    load.input_data(uncontrolled_load, start_times, end_times)\n",
    "    input_data[i, :] = load.uncontrolled_total_load\n",
    "\n",
    "    # Run each of the controls and save the outputs\n",
    "    power, total_load = new_controlled_load(load, demand_charges, energy_charges)\n",
    "    output_data_control[i, :] = total_load\n",
    "print(\"\\rDone                      \")"
   ]
  },
  {
   "cell_type": "code",
   "execution_count": 10,
   "metadata": {},
   "outputs": [],
   "source": [
    "y = np.copy(output_data_control)#[:(i-1), :])\n",
    "X = np.copy(input_data)#[:(i-1), :])"
   ]
  },
  {
   "cell_type": "code",
   "execution_count": 11,
   "metadata": {},
   "outputs": [
    {
     "data": {
      "text/plain": [
       "(100, 96)"
      ]
     },
     "execution_count": 11,
     "metadata": {},
     "output_type": "execute_result"
    }
   ],
   "source": [
    "np.save('X_custom_rate.npy', X)\n",
    "np.save('y_custom_rate.npy', y)\n",
    "np.shape(output_data_control)"
   ]
  },
  {
   "cell_type": "code",
   "execution_count": 12,
   "metadata": {},
   "outputs": [
    {
     "data": {
      "image/png": "[encoded data removed]",
      "text/plain": [
       "<Figure size 640x480 with 1 Axes>"
      ]
     },
     "metadata": {},
     "output_type": "display_data"
    }
   ],
   "source": [
    "idx = 10\n",
    "plt.figure()\n",
    "plt.plot(0.25*np.arange(0, 96), X[idx, :])\n",
    "plt.plot(0.25*np.arange(0, 96), y[idx, :])\n",
    "plt.legend(labels=['Uncontrolled', 'Controlled'])\n",
    "plt.ylabel('kW'); plt.xlabel('Hour'); plt.xlim([0, 24])\n",
    "plt.grid()\n",
    "plt.show()"
   ]
  },
  {
   "cell_type": "markdown",
   "metadata": {},
   "source": [
    "# 2. fit model (or multiple models)\n",
    "\n",
    "and report the results / error metric"
   ]
  },
  {
   "cell_type": "code",
   "execution_count": 13,
   "metadata": {},
   "outputs": [],
   "source": [
    "def normalize_profiles(uncontrolled_profiles, controlled_profiles, return_norms=False):\n",
    "    \n",
    "    uncont_norm, norms_out = normalize(uncontrolled_profiles, norm='max', axis=1, return_norm=True)\n",
    "    cont_norm = np.zeros(np.shape(controlled_profiles))\n",
    "    for i in range(np.shape(controlled_profiles)[0]):\n",
    "        cont_norm[i, :] = controlled_profiles[i, :] / norms_out[i]\n",
    "        \n",
    "    if return_norms:\n",
    "        return uncont_norm, cont_norm, norms_out\n",
    "    else:\n",
    "        return uncont_norm, cont_norm\n",
    "\n",
    "def max_absolute_error(y_true, y_pred):\n",
    "    diff = np.abs(y_true - y_pred).max()\n",
    "    return diff\n",
    "score = metrics.make_scorer(max_absolute_error, greater_is_better=False)\n",
    "\n",
    "def aggregate(uncontrolled_profiles, controlled_profiles, shuffle=False, k=10):\n",
    "    \n",
    "    if shuffle:\n",
    "        length = np.shape(uncontrolled_profiles)[0]\n",
    "        new_inds = np.random.choice(range(length), length, replace=False)\n",
    "        uncontrolled_profiles = uncontrolled_profiles[new_inds, :]\n",
    "        controlled_profiles = controlled_profiles[new_inds, :]\n",
    "\n",
    "    new_uncontrolled_profiles = np.zeros((int(np.shape(uncontrolled_profiles)[0]/k), np.shape(uncontrolled_profiles)[1]))\n",
    "    new_controlled_profiles = np.zeros((int(np.shape(uncontrolled_profiles)[0]/k), np.shape(uncontrolled_profiles)[1]))\n",
    "    for i in range(int(np.shape(uncontrolled_profiles)[0]/k)):\n",
    "        for j in range(k):\n",
    "            new_uncontrolled_profiles[i, :] += uncontrolled_profiles[k*i + j, :]\n",
    "            new_controlled_profiles[i, :] += controlled_profiles[k*i + j, :]\n",
    "            \n",
    "    return uncontrolled_profiles, controlled_profiles, new_uncontrolled_profiles, new_controlled_profiles"
   ]
  },
  {
   "cell_type": "code",
   "execution_count": 14,
   "metadata": {},
   "outputs": [],
   "source": [
    "def agg_fit_test(uncontrolled_profiles, controlled_profiles, return_all=False, agg=False):\n",
    "    \n",
    "    if agg:\n",
    "        uncontrolled_profiles, controlled_profiles, new_uncontrolled_profiles, new_controlled_profiles = aggregate(uncontrolled_profiles, \n",
    "                                                                                                                   controlled_profiles, shuffle=True, k=10)\n",
    "    else:\n",
    "        new_uncontrolled_profiles = np.copy(uncontrolled_profiles)\n",
    "        new_controlled_profiles = np.copy(controlled_profiles)\n",
    "    \n",
    "    uncont_norm, cont_norm = normalize_profiles(new_uncontrolled_profiles, new_controlled_profiles)\n",
    "    X_train, X_test, y_train, y_test = train_test_split(uncont_norm, cont_norm, test_size=0.2, random_state=42)\n",
    "    X_train, X_dev, y_train, y_dev = train_test_split(X_train, y_train, test_size=1/8, random_state=42)\n",
    "\n",
    "    param_grid = {'alpha':np.linspace(0, 2, 50)}\n",
    "    clf_grid = GridSearchCV(Ridge(), param_grid, scoring='neg_mean_squared_error', n_jobs=-1, cv=5) \n",
    "    clf_grid.fit(X_train, y_train)\n",
    "    new_clf = clf_grid.best_estimator_\n",
    "#     new_clf = LinearRegression(fit_intercept=True)\n",
    "    new_clf.fit(X_train, y_train)\n",
    "\n",
    "    mean_error = metrics.mean_squared_error(y_dev, new_clf.predict(X_dev))\n",
    "    max_error =  max_absolute_error(y_dev, new_clf.predict(X_dev))\n",
    "    print('Mean squared error:', mean_error)\n",
    "    print('Max abs error:', max_error)\n",
    "    if return_all:\n",
    "        return new_clf, X_train, X_dev, X_test, y_train, y_dev, y_test\n",
    "    else:\n",
    "        return new_clf"
   ]
  },
  {
   "cell_type": "code",
   "execution_count": 15,
   "metadata": {},
   "outputs": [
    {
     "name": "stderr",
     "output_type": "stream",
     "text": [
      "/usr/local/lib/python3.11/site-packages/sklearn/linear_model/_ridge.py:239: UserWarning: Singular matrix in solving dual problem. Using least-squares solution instead.\n",
      "  warnings.warn(\n",
      "/usr/local/lib/python3.11/site-packages/sklearn/linear_model/_ridge.py:239: UserWarning: Singular matrix in solving dual problem. Using least-squares solution instead.\n",
      "  warnings.warn(\n",
      "/usr/local/lib/python3.11/site-packages/sklearn/linear_model/_ridge.py:239: UserWarning: Singular matrix in solving dual problem. Using least-squares solution instead.\n",
      "  warnings.warn(\n",
      "/usr/local/lib/python3.11/site-packages/sklearn/linear_model/_ridge.py:239: UserWarning: Singular matrix in solving dual problem. Using least-squares solution instead.\n",
      "  warnings.warn(\n",
      "/usr/local/lib/python3.11/site-packages/sklearn/linear_model/_ridge.py:239: UserWarning: Singular matrix in solving dual problem. Using least-squares solution instead.\n",
      "  warnings.warn(\n"
     ]
    },
    {
     "name": "stdout",
     "output_type": "stream",
     "text": [
      "Mean squared error: 0.004346259009713286\n",
      "Max abs error: 0.36240939065304456\n"
     ]
    }
   ],
   "source": [
    "# control = 'PGEcev'\n",
    "clf, X_train, X_dev, X_test, y_train, y_dev, y_test = agg_fit_test(X, y, return_all=True)"
   ]
  },
  {
   "cell_type": "code",
   "execution_count": 16,
   "metadata": {},
   "outputs": [],
   "source": [
    "# new_clf = LinearRegression(fit_intercept=True)\n",
    "# new_clf.fit(np.concatenate((X_train, X_dev), axis=0), np.concatenate((y_train, y_dev), axis=0))\n",
    "\n",
    "# mean_error = metrics.mean_squared_error(y_test, new_clf.predict(X_test))\n",
    "# max_error =  max_absolute_error(y_test, new_clf.predict(X_test))\n",
    "# print('Mean squared error:', mean_error)\n",
    "# print('Max abs error:', max_error)\n"
   ]
  },
  {
   "cell_type": "code",
   "execution_count": 17,
   "metadata": {},
   "outputs": [
    {
     "data": {
      "image/png": "[encoded data removed]",
      "text/plain": [
       "<Figure size 640x480 with 1 Axes>"
      ]
     },
     "metadata": {},
     "output_type": "display_data"
    }
   ],
   "source": [
    "idx = 10\n",
    "\n",
    "Xnorm, ynorm, norms = normalize_profiles(X, y, return_norms=True)\n",
    "ypred_norm = clf.predict(Xnorm[idx, :].reshape(1, -1))\n",
    "ypred = norms[idx] * ypred_norm\n",
    "plt.figure()\n",
    "plt.plot(0.25*np.arange(0, 96), X[idx, :])\n",
    "plt.plot(0.25*np.arange(0, 96), y[idx, :])\n",
    "plt.plot(0.25*np.arange(0, 96), ypred.ravel())\n",
    "plt.legend(labels=['Uncontrolled', 'Controlled', 'Estimated'])\n",
    "plt.ylabel('kW'); plt.xlabel('Hour'); plt.xlim([0, 24])\n",
    "plt.show()"
   ]
  },
  {
   "cell_type": "code",
   "execution_count": 18,
   "metadata": {},
   "outputs": [],
   "source": [
    "def save(clf, folder, name_str, bucket=None, bucket_folder=None):\n",
    "    \n",
    "    pickle.dump(clf, open(folder+name_str+'.p', \"wb\"))\n",
    "    if bucket is not None:\n",
    "        s3 = boto3.client('s3')\n",
    "        s3.upload_file(folder+name_str+'.p', bucket, bucket_folder+name_str+'.p')"
   ]
  },
  {
   "cell_type": "code",
   "execution_count": 19,
   "metadata": {},
   "outputs": [],
   "source": [
    "# save(clf, '', 'control_custom_rate',\n",
    "#      bucket='script.control.tool', \n",
    "#      bucket_folder='Control_Objects/')"
   ]
  },
  {
   "cell_type": "markdown",
   "metadata": {},
   "source": [
    "# 3. apply to scenario"
   ]
  },
  {
   "cell_type": "code",
   "execution_count": 20,
   "metadata": {},
   "outputs": [],
   "source": [
    "from evloadmodel import EVLoadModel\n",
    "from configurations_script import FinalReport"
   ]
  },
  {
   "cell_type": "code",
   "execution_count": 21,
   "metadata": {},
   "outputs": [],
   "source": [
    "control_rule = 'custom_rate'\n",
    "\n",
    "total_num_evs = 5e6\n",
    "res_percent = 0.4\n",
    "fast_percent = 0.05\n",
    "publicl2_percent = 0.05\n",
    "work_percent = 0.5\n",
    "rent_percent = 0.1\n",
    "l1_percent = 0.2\n",
    "weekday = True\n",
    "res_daily_use = 0.8\n",
    "work_daily_use = 0.8\n",
    "fast_daily_use = 0.33\n",
    "publicl2_daily_use = 0.33\n",
    "even_spread_geo_percent = 0.0\n",
    "battery_dict = None"
   ]
  },
  {
   "cell_type": "code",
   "execution_count": 22,
   "metadata": {},
   "outputs": [
    {
     "name": "stderr",
     "output_type": "stream",
     "text": [
      "/usr/local/lib/python3.11/site-packages/sklearn/base.py:348: InconsistentVersionWarning: Trying to unpickle estimator GaussianMixture from version 0.22.2.post1 when using version 1.3.2. This might lead to breaking code or invalid results. Use at your own risk. For more info please refer to:\n",
      "https://scikit-learn.org/stable/model_persistence.html#security-maintainability-limitations\n",
      "  warnings.warn(\n"
     ]
    },
    {
     "ename": "ClientError",
     "evalue": "An error occurred (AccessDenied) when calling the GetObject operation: Access Denied",
     "output_type": "error",
     "traceback": [
      "\u001b[0;31m---------------------------------------------------------------------------\u001b[0m",
      "\u001b[0;31mClientError\u001b[0m                               Traceback (most recent call last)",
      "Cell \u001b[0;32mIn[22], line 12\u001b[0m\n\u001b[1;32m     10\u001b[0m model \u001b[38;5;241m=\u001b[39m EVLoadModel(config)\n\u001b[1;32m     11\u001b[0m model\u001b[38;5;241m.\u001b[39mcalculate_basic_load(verbose\u001b[38;5;241m=\u001b[39m\u001b[38;5;28;01mFalse\u001b[39;00m)\n\u001b[0;32m---> 12\u001b[0m \u001b[43mmodel\u001b[49m\u001b[38;5;241;43m.\u001b[39;49m\u001b[43mapply_control\u001b[49m\u001b[43m(\u001b[49m\u001b[43mcontrol_rule\u001b[49m\u001b[38;5;241;43m=\u001b[39;49m\u001b[43mcontrol_rule\u001b[49m\u001b[43m,\u001b[49m\u001b[43m \u001b[49m\u001b[43msegment\u001b[49m\u001b[38;5;241;43m=\u001b[39;49m\u001b[38;5;124;43m'\u001b[39;49m\u001b[38;5;124;43mWork\u001b[39;49m\u001b[38;5;124;43m'\u001b[39;49m\u001b[43m)\u001b[49m\n",
      "File \u001b[0;32m~/github/slacgismo/ascript/source/evloadmodel.py:255\u001b[0m, in \u001b[0;36mEVLoadModel.apply_control\u001b[0;34m(self, control_rule, segment)\u001b[0m\n\u001b[1;32m    253\u001b[0m \u001b[38;5;28;01mdef\u001b[39;00m \u001b[38;5;21mapply_control\u001b[39m(\u001b[38;5;28mself\u001b[39m, control_rule\u001b[38;5;241m=\u001b[39m\u001b[38;5;124m'\u001b[39m\u001b[38;5;124mPGEe19\u001b[39m\u001b[38;5;124m'\u001b[39m, segment\u001b[38;5;241m=\u001b[39m\u001b[38;5;124m'\u001b[39m\u001b[38;5;124mWork\u001b[39m\u001b[38;5;124m'\u001b[39m):\n\u001b[0;32m--> 255\u001b[0m     response \u001b[38;5;241m=\u001b[39m \u001b[38;5;28;43mself\u001b[39;49m\u001b[38;5;241;43m.\u001b[39;49m\u001b[43mconfig\u001b[49m\u001b[38;5;241;43m.\u001b[39;49m\u001b[43ms3client\u001b[49m\u001b[38;5;241;43m.\u001b[39;49m\u001b[43mget_object\u001b[49m\u001b[43m(\u001b[49m\u001b[43mBucket\u001b[49m\u001b[38;5;241;43m=\u001b[39;49m\u001b[38;5;28;43mself\u001b[39;49m\u001b[38;5;241;43m.\u001b[39;49m\u001b[43mconfig\u001b[49m\u001b[38;5;241;43m.\u001b[39;49m\u001b[43mcontrol_bucket\u001b[49m\u001b[43m,\u001b[49m\n\u001b[1;32m    256\u001b[0m \u001b[43m                                               \u001b[49m\u001b[43mKey\u001b[49m\u001b[38;5;241;43m=\u001b[39;49m\u001b[38;5;28;43mself\u001b[39;49m\u001b[38;5;241;43m.\u001b[39;49m\u001b[43mconfig\u001b[49m\u001b[38;5;241;43m.\u001b[39;49m\u001b[43mcontrol_folder_path\u001b[49m\u001b[38;5;241;43m+\u001b[39;49m\u001b[38;5;124;43m'\u001b[39;49m\u001b[38;5;124;43m/control_\u001b[39;49m\u001b[38;5;124;43m'\u001b[39;49m\u001b[38;5;241;43m+\u001b[39;49m\u001b[38;5;28;43mstr\u001b[39;49m\u001b[43m(\u001b[49m\u001b[43mcontrol_rule\u001b[49m\u001b[43m)\u001b[49m\u001b[38;5;241;43m+\u001b[39;49m\u001b[38;5;124;43m'\u001b[39;49m\u001b[38;5;124;43m_rerun.p\u001b[39;49m\u001b[38;5;124;43m'\u001b[39;49m\u001b[43m)\u001b[49m\n\u001b[1;32m    257\u001b[0m     \u001b[38;5;28mself\u001b[39m\u001b[38;5;241m.\u001b[39mcontrol_object \u001b[38;5;241m=\u001b[39m pickle\u001b[38;5;241m.\u001b[39mloads(response[\u001b[38;5;124m'\u001b[39m\u001b[38;5;124mBody\u001b[39m\u001b[38;5;124m'\u001b[39m]\u001b[38;5;241m.\u001b[39mread())\n\u001b[1;32m    259\u001b[0m     x \u001b[38;5;241m=\u001b[39m \u001b[38;5;28mself\u001b[39m\u001b[38;5;241m.\u001b[39mload_segments[segment][\u001b[38;5;124m'\u001b[39m\u001b[38;5;124mLoad\u001b[39m\u001b[38;5;124m'\u001b[39m]\u001b[38;5;241m.\u001b[39mcopy()\n",
      "File \u001b[0;32m/usr/local/lib/python3.11/site-packages/botocore/client.py:535\u001b[0m, in \u001b[0;36mClientCreator._create_api_method.<locals>._api_call\u001b[0;34m(self, *args, **kwargs)\u001b[0m\n\u001b[1;32m    531\u001b[0m     \u001b[38;5;28;01mraise\u001b[39;00m \u001b[38;5;167;01mTypeError\u001b[39;00m(\n\u001b[1;32m    532\u001b[0m         \u001b[38;5;124mf\u001b[39m\u001b[38;5;124m\"\u001b[39m\u001b[38;5;132;01m{\u001b[39;00mpy_operation_name\u001b[38;5;132;01m}\u001b[39;00m\u001b[38;5;124m() only accepts keyword arguments.\u001b[39m\u001b[38;5;124m\"\u001b[39m\n\u001b[1;32m    533\u001b[0m     )\n\u001b[1;32m    534\u001b[0m \u001b[38;5;66;03m# The \"self\" in this scope is referring to the BaseClient.\u001b[39;00m\n\u001b[0;32m--> 535\u001b[0m \u001b[38;5;28;01mreturn\u001b[39;00m \u001b[38;5;28;43mself\u001b[39;49m\u001b[38;5;241;43m.\u001b[39;49m\u001b[43m_make_api_call\u001b[49m\u001b[43m(\u001b[49m\u001b[43moperation_name\u001b[49m\u001b[43m,\u001b[49m\u001b[43m \u001b[49m\u001b[43mkwargs\u001b[49m\u001b[43m)\u001b[49m\n",
      "File \u001b[0;32m/usr/local/lib/python3.11/site-packages/botocore/client.py:980\u001b[0m, in \u001b[0;36mBaseClient._make_api_call\u001b[0;34m(self, operation_name, api_params)\u001b[0m\n\u001b[1;32m    978\u001b[0m     error_code \u001b[38;5;241m=\u001b[39m parsed_response\u001b[38;5;241m.\u001b[39mget(\u001b[38;5;124m\"\u001b[39m\u001b[38;5;124mError\u001b[39m\u001b[38;5;124m\"\u001b[39m, {})\u001b[38;5;241m.\u001b[39mget(\u001b[38;5;124m\"\u001b[39m\u001b[38;5;124mCode\u001b[39m\u001b[38;5;124m\"\u001b[39m)\n\u001b[1;32m    979\u001b[0m     error_class \u001b[38;5;241m=\u001b[39m \u001b[38;5;28mself\u001b[39m\u001b[38;5;241m.\u001b[39mexceptions\u001b[38;5;241m.\u001b[39mfrom_code(error_code)\n\u001b[0;32m--> 980\u001b[0m     \u001b[38;5;28;01mraise\u001b[39;00m error_class(parsed_response, operation_name)\n\u001b[1;32m    981\u001b[0m \u001b[38;5;28;01melse\u001b[39;00m:\n\u001b[1;32m    982\u001b[0m     \u001b[38;5;28;01mreturn\u001b[39;00m parsed_response\n",
      "\u001b[0;31mClientError\u001b[0m: An error occurred (AccessDenied) when calling the GetObject operation: Access Denied"
     ]
    }
   ],
   "source": [
    "config = FinalReport(total_num_evs=total_num_evs, aggregation_level='state',\n",
    "                    res_percent=res_percent, fast_percent=fast_percent, publicl2_percent=publicl2_percent, work_percent=work_percent, rent_percent=rent_percent, \n",
    "                    l1_percent=l1_percent, res_l2_smooth=False, week_day=weekday,\n",
    "                    res_daily_use=res_daily_use, work_daily_use=work_daily_use, fast_daily_use=fast_daily_use, publicl2_daily_use=publicl2_daily_use,\n",
    "                    mixed_batteries=battery_dict, time_steps=96)\n",
    "\n",
    "config.control_folder_path = 'Control_Objects'\n",
    "config.sample_fast=True\n",
    "\n",
    "model = EVLoadModel(config)\n",
    "model.calculate_basic_load(verbose=False)\n",
    "model.apply_control(control_rule=control_rule, segment='Work')\n"
   ]
  },
  {
   "cell_type": "code",
   "execution_count": null,
   "metadata": {},
   "outputs": [],
   "source": [
    "model.plot_labeled_load()"
   ]
  },
  {
   "cell_type": "code",
   "execution_count": null,
   "metadata": {},
   "outputs": [],
   "source": [
    "model.plot_labeled_load(model.controlled_segmented_load)"
   ]
  },
  {
   "cell_type": "code",
   "execution_count": null,
   "metadata": {},
   "outputs": [],
   "source": [
    "def plot_labeled_load(ax, plotting_data, set_ylim=None, work=False):\n",
    "\n",
    "    x = (24 / np.shape(plotting_data)[0]) * np.arange(0, np.shape(plotting_data)[0])\n",
    "    mark = np.zeros(np.shape(x))\n",
    "    scaling = 1 / 1000\n",
    "    unit = 'MW'\n",
    "    for key in plotting_data.keys()[:-1]:\n",
    "        if work and (key == 'Work'):\n",
    "            ax.plot(0.25*np.arange(0, 96), scaling * (mark[np.arange(0, 1440, 15)] + plotting_data[key][np.arange(0, 1440, 15)]))\n",
    "            ax.fill_between(0.25*np.arange(0, 96), scaling * mark[np.arange(0, 1440, 15)], scaling * (mark[np.arange(0, 1440, 15)] + plotting_data[key][np.arange(0, 1440, 15)]), alpha=0.5)\n",
    "            mark += plotting_data[key]\n",
    "        else:\n",
    "            ax.plot(x, scaling * (mark + plotting_data[key]))\n",
    "            ax.fill_between(x, scaling * mark, scaling * (mark + plotting_data[key]), alpha=0.5)\n",
    "            mark += plotting_data[key]\n",
    "    ax.plot(x, scaling * mark, 'k')\n",
    "    ax.set_xlim([0, 24])\n",
    "    if set_ylim is None:\n",
    "        ax.set_ylim([0, 1.1 * np.max(scaling * mark)])\n",
    "    else:\n",
    "        ax.set_ylim([0, set_ylim])\n",
    "\n",
    "    return ax"
   ]
  },
  {
   "cell_type": "code",
   "execution_count": null,
   "metadata": {},
   "outputs": [],
   "source": [
    "fig, ax = plt.subplots(1, 3, figsize=(22,4.5))\n",
    "fonts = 13.5\n",
    "\n",
    "labels = ['Residential L1', 'Residential L2', 'MUD L2', 'Workplace L2 - uncontrolled', 'Public L2', 'Public DCFC']\n",
    "\n",
    "ax[1] = plot_labeled_load(ax[1], pd.DataFrame(model.sampled_loads_dict), set_ylim=6000)\n",
    "cont = pd.DataFrame(model.sampled_controlled_loads_dict)\n",
    "cont['Total'] = cont.sum(axis=1)\n",
    "ax[2] = plot_labeled_load(ax[2], cont, set_ylim=6000)\n",
    "\n",
    "ax[0].plot(0.25*np.arange(0, 96), (1/1000)*model.load_segments['Work']['Load'], '--', color='C3')\n",
    "ax[0].plot(0.25*np.arange(0, 96), (1/1000)*model.controlled_load_segments_dict['Work']['Load'], color='C3')\n",
    "ax[0].set_xlim([0, 23.75]); ax[0].set_ylim([0, 1.1*np.max((1/1000)*model.load_segments['Work']['Load'])])\n",
    "ax[0].legend(labels=['Workplace - uncontrolled', 'Workplace - est. controlled'], fontsize=fonts-1, loc='upper left')\n",
    "\n",
    "for i in range(3):\n",
    "    ax[i].set_xticks([0, 6, 12, 18]); ax[i].set_xticklabels([0, 6, 12, 18], fontsize=fonts)\n",
    "    ax[i].set_xlabel('Time of day [h]', fontsize=fonts)\n",
    "    if i == 0:\n",
    "        ax[i].set_yticks([1000, 2000, 3000, 4000, 5000, 6000]); ax[i].set_yticklabels([1, 2, 3, 4, 5, 6], fontsize=fonts)\n",
    "        ax[i].set_ylabel('Load [GW]', fontsize=fonts)\n",
    "    else:\n",
    "        ax[i].set_yticks([])\n",
    "        \n",
    "    if i == 1:\n",
    "        ax[i].legend(loc='upper left', labels=labels, fontsize=fonts-1, ncol=2)\n",
    "    if i == 2:\n",
    "        ax[i].legend(loc='upper left', labels=['Residential L1', 'Residential L2', 'MUD L2', 'Workplace L2 - est. controlled', 'Public L2', 'Public DCFC'], fontsize=fonts-1, ncol=2)\n",
    "\n",
    "plt.tight_layout()\n",
    "plt.savefig('custom_plots.pdf', bbox_inches='tight')\n",
    "plt.show()"
   ]
  },
  {
   "cell_type": "code",
   "execution_count": null,
   "metadata": {},
   "outputs": [],
   "source": [
    "plt.figure()\n",
    "plt.plot(0.25*np.arange(0, 96), model.load_segments['Work']['Load'])\n",
    "plt.plot(0.25*np.arange(0, 96), model.controlled_load_segments_dict['Work']['Load'])\n",
    "plt.xlim([0, 24]); plt.xlabel('Hour'); plt.ylabel('kW');\n",
    "plt.legend(labels=['Workplace - uncontrolled', 'Workplace control estimate'])\n",
    "plt.show()"
   ]
  }
 ],
 "metadata": {
  "kernelspec": {
   "display_name": "Python 3 (ipykernel)",
   "language": "python",
   "name": "python3"
  },
  "language_info": {
   "codemirror_mode": {
    "name": "ipython",
    "version": 3
   },
   "file_extension": ".py",
   "mimetype": "text/x-python",
   "name": "python",
   "nbconvert_exporter": "python",
   "pygments_lexer": "ipython3",
   "version": "3.11.5"
  }
 },
 "nbformat": 4,
 "nbformat_minor": 2
}
